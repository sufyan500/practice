{
 "cells": [
  {
   "cell_type": "markdown",
   "metadata": {},
   "source": [
    "# Python User Define Function Practice Activity - 2 "
   ]
  },
  {
   "cell_type": "markdown",
   "metadata": {},
   "source": [
    "Asst. Prof. Syed Faisal Ali              $\\;\\;\\;\\;\\;\\;$              Programming Fundamentals - FALL 2019 $\\;\\;\\;\\;\\;\\;$ Software Engineering                     $\\;\\;\\;\\;\\;\\;$                   Dated: 27 Nov 2019"
   ]
  },
  {
   "cell_type": "markdown",
   "metadata": {},
   "source": [
    "Question 1: Create a function to find the following:\n",
    "If the base of triangle is 3 cm long and its equilateral triangle and the radius of circle is 1.5 cm then find the area of triangle shaded. \n"
   ]
  },
  {
   "cell_type": "markdown",
   "metadata": {},
   "source": [
    "![proj](q1.jpg)"
   ]
  },
  {
   "cell_type": "code",
   "execution_count": 54,
   "metadata": {},
   "outputs": [
    {
     "name": "stdout",
     "output_type": "stream",
     "text": [
      "the area of shaded region is  35.43362938564083\n"
     ]
    }
   ],
   "source": [
    "import math\n",
    "def area(r,l):\n",
    "    area_c=math.pi*r*r\n",
    "    area_t=l*l*3\n",
    "    x=area_t-area_c\n",
    "    print(\"the area of shaded region is \",x)\n",
    "area(2,4)\n",
    "#6mins"
   ]
  },
  {
   "cell_type": "markdown",
   "metadata": {},
   "source": [
    "Question 2: Create a function which can read a dictionary of your family members such as 5 members. \n",
    "1 Abbu, 1 Ammi, 2 Brothers 1 Sister. Now feed this data in dictionary in terms of name and relations.\n",
    "The UDF will ask findrelation() in this you will enter Brother it will return the names of two brothers you have inserted. In case if the relation is not found it will return “Sorry the relation doesn’t exist in your family.” \n"
   ]
  },
  {
   "cell_type": "code",
   "execution_count": 63,
   "metadata": {},
   "outputs": [
    {
     "data": {
      "text/plain": [
       "'ali'"
      ]
     },
     "execution_count": 63,
     "metadata": {},
     "output_type": "execute_result"
    }
   ],
   "source": [
    "def rel (s):\n",
    "    family = {'abbu':'ali','ammi':'farzana','brother':'fahad','brother':'arsalan','sister' :'fatima'}\n",
    "    x = family[s]\n",
    "    return x\n",
    "rel('abbu')\n",
    "#7mins"
   ]
  },
  {
   "cell_type": "markdown",
   "metadata": {},
   "source": [
    "Question 3: Create a function to find the following:\n",
    "If the base of triangle is 5 cm long and its equilateral triangle and the radius of circle is 2.25 cm then find the area of triangle shaded. \n"
   ]
  },
  {
   "cell_type": "markdown",
   "metadata": {},
   "source": [
    "![proj](q3.jpg)"
   ]
  },
  {
   "cell_type": "code",
   "execution_count": 68,
   "metadata": {},
   "outputs": [
    {
     "data": {
      "text/plain": [
       "173.20508075688772"
      ]
     },
     "execution_count": 68,
     "metadata": {},
     "output_type": "execute_result"
    }
   ],
   "source": [
    "import math\n",
    "def area(b):\n",
    "    a=b**2*((math.sqrt(3))/4)\n",
    "    return(a)\n",
    "area(20)\n",
    "#3mins"
   ]
  },
  {
   "cell_type": "markdown",
   "metadata": {},
   "source": [
    "Question 4:\n",
    "Create a function that takes a list of random numbers from users and add only those which are even. If all the numbers are odd it will return sorry no even number found.\n"
   ]
  },
  {
   "cell_type": "code",
   "execution_count": 75,
   "metadata": {},
   "outputs": [
    {
     "name": "stdout",
     "output_type": "stream",
     "text": [
      "the sum of even numbers are  20\n"
     ]
    }
   ],
   "source": [
    "def even():\n",
    "    lst=[1,2,3,4,6,8,5]\n",
    "    sum=0\n",
    "    for i in lst:\n",
    "        if i%2==0:\n",
    "            sum+=i\n",
    "    for j in lst:\n",
    "          if i%3==0:\n",
    "                print(\"sorry\")\n",
    "    print(\"the sum of even numbers are \",sum)\n",
    "even()\n",
    "#8.5mins"
   ]
  },
  {
   "cell_type": "markdown",
   "metadata": {},
   "source": [
    "Question 5:\n",
    "Write a function which can take a list of numbers and it will return sorted list.\n"
   ]
  },
  {
   "cell_type": "code",
   "execution_count": 78,
   "metadata": {},
   "outputs": [
    {
     "name": "stdout",
     "output_type": "stream",
     "text": [
      "the sorted list is  [1, 3, 5, 7, 8, 9]\n"
     ]
    }
   ],
   "source": [
    "def sort(a,b,c,d,e,f):\n",
    "    lst=[a,b,c,d,e,f]\n",
    "    lst.sort()\n",
    "    print(\"the sorted list is \",lst)\n",
    "sort(1,5,7,9,3,8)\n",
    "#5mins"
   ]
  },
  {
   "cell_type": "markdown",
   "metadata": {},
   "source": [
    "Question 6:\n",
    "Write a function that will take the radius and return the perimeter and area of circle with 5% increment.\n"
   ]
  },
  {
   "cell_type": "code",
   "execution_count": 81,
   "metadata": {},
   "outputs": [
    {
     "name": "stdout",
     "output_type": "stream",
     "text": [
      "the area of the circle with 5% increment is  29.688050576423546 \n",
      "the perimeter of circle with 5% increment is  19.792033717615695\n"
     ]
    }
   ],
   "source": [
    "def area_peri(r):\n",
    "    area=math.pi*r*r\n",
    "    peri=2*math.pi*r\n",
    "    x=area/20\n",
    "    a=area+x\n",
    "    y=peri/20\n",
    "    b=peri+y\n",
    "    print(\"the area of the circle with 5% increment is \",a,\"\\nthe perimeter of circle with 5% increment is \",b)\n",
    "area_peri(3)\n",
    "#7mins"
   ]
  },
  {
   "cell_type": "markdown",
   "metadata": {},
   "source": [
    "Question 7:\n",
    "Write a function that will take the strings as argument and return number of vowels and consonants.\n"
   ]
  },
  {
   "cell_type": "code",
   "execution_count": 85,
   "metadata": {},
   "outputs": [
    {
     "name": "stdout",
     "output_type": "stream",
     "text": [
      "the number of vowels are  3\n",
      "the number of consonants are  4\n"
     ]
    }
   ],
   "source": [
    "def vow_con(a):\n",
    "    v=0\n",
    "    c=0\n",
    "    for i in a:\n",
    "        if i in \"aeiouAEIOU\":\n",
    "            v+=1\n",
    "        else:\n",
    "            c+=1\n",
    "    print(\"the number of vowels are \",v)\n",
    "    print(\"the number of consonants are \",c)\n",
    "vow_con('amazing')\n",
    "#8mins"
   ]
  },
  {
   "cell_type": "markdown",
   "metadata": {},
   "source": [
    "Question 8:\n",
    "Write a function that will take length and breadth for a rectangle and return perimeter and area of rectangle with 8% increment.\n"
   ]
  },
  {
   "cell_type": "code",
   "execution_count": 110,
   "metadata": {},
   "outputs": [
    {
     "name": "stdout",
     "output_type": "stream",
     "text": [
      "the perimeter of rectangle is  0.96 \n",
      "the area of rectangle is  0.64\n"
     ]
    }
   ],
   "source": [
    "def peri_arae(l,b):\n",
    "    p=2*(l+b)\n",
    "    a=l*b\n",
    "    x=(p*8)/100\n",
    "    y=(a*8)/100\n",
    "    print(\"the perimeter of rectangle is \",x,\"\\nthe area of rectangle is \",y)\n",
    "peri_arae(2,4)\n",
    "#6mins"
   ]
  },
  {
   "cell_type": "markdown",
   "metadata": {},
   "source": [
    "Question 9:\n",
    "Write a function that can take the numbers in strings. From string find which number is even and which one is odd. Save them in two different lists and generate the result.\n"
   ]
  },
  {
   "cell_type": "code",
   "execution_count": 111,
   "metadata": {},
   "outputs": [
    {
     "name": "stdout",
     "output_type": "stream",
     "text": [
      "even numbers are  [2, 4, 6, 8, 10] \n",
      " odd numbers are  [9, 3, 7]\n"
     ]
    }
   ],
   "source": [
    "def str(a,b,c,d,e,f,g,h):\n",
    "    even=[]\n",
    "    odd=[]\n",
    "    lst=[a,b,c,d,e,f,g,h]\n",
    "    for i in lst:\n",
    "        if i%2==0:\n",
    "            even.append(i)\n",
    "        else:\n",
    "            odd.append(i)\n",
    "    print(\"even numbers are \",even,\"\\n odd numbers are \",odd)\n",
    "str(2,4,9,3,7,6,8,10)\n",
    "#9mins"
   ]
  },
  {
   "cell_type": "markdown",
   "metadata": {},
   "source": [
    "Question 10:\n",
    "Write a function which will take the string from the user and return how many alphabets have been used in it and which alphabets are missing.\n"
   ]
  },
  {
   "cell_type": "code",
   "execution_count": 51,
   "metadata": {},
   "outputs": [
    {
     "name": "stdout",
     "output_type": "stream",
     "text": [
      "enter the string:amazing\n",
      "the total alphabets are: 6\n",
      "the missing alphabets are: bcdefhjklopqrstuvwxy\n"
     ]
    }
   ],
   "source": [
    "def coun_mis():\n",
    "    s = input('enter the string:')\n",
    "    x = 0\n",
    "    y = 'abcdefghijklmnopqrstuvwxyz'\n",
    "    for i in s:\n",
    "        if i in y:\n",
    "            y = y.replace(i,\"\")\n",
    "            x += 1\n",
    "    print(\"the total alphabets are:\",x)\n",
    "            \n",
    "    print(\"the missing alphabets are:\",y)\n",
    "coun_mis()\n",
    "#8.5mins"
   ]
  },
  {
   "cell_type": "markdown",
   "metadata": {},
   "source": [
    "Question 11:\n",
    "Write a function that will take verbs in words and return a list of verbs with continuous tense by adding (ing) at the end of each verb.\n"
   ]
  },
  {
   "cell_type": "code",
   "execution_count": 92,
   "metadata": {},
   "outputs": [
    {
     "name": "stdout",
     "output_type": "stream",
     "text": [
      "watching\n"
     ]
    }
   ],
   "source": [
    "def verb(str1):\n",
    "    if str1[-1] == 'e' or str1[-1] == 'y':\n",
    "        str1 = str1.replace(str1[-1],\"\")\n",
    "        print(str1+\"ing\")\n",
    "    else:\n",
    "        print(str1+\"ing\")\n",
    "verb('watch')\n",
    "#5mins"
   ]
  },
  {
   "cell_type": "markdown",
   "metadata": {},
   "source": [
    "Question 12:\n",
    "Make a function which can take two radius of circles and find the areas of it and subtract smaller one from larger one and tell the remaining area of circle.\n"
   ]
  },
  {
   "cell_type": "code",
   "execution_count": 95,
   "metadata": {},
   "outputs": [
    {
     "name": "stdout",
     "output_type": "stream",
     "text": [
      "the area of circle is  188.49555921538757\n",
      "None\n"
     ]
    }
   ],
   "source": [
    "import math\n",
    "def area(r1,r2):\n",
    "    area1=math.pi*r1*r1\n",
    "    area2=math.pi*r2*r2\n",
    "    if r1>r2:\n",
    "        x=area1-area2\n",
    "        print(\"the area of circle is \",x)\n",
    "    elif r1<r2:\n",
    "        x=area2-area1\n",
    "        print(\"the area of circle is \",x)\n",
    "print(area(2,8))\n",
    "#7mins"
   ]
  },
  {
   "cell_type": "markdown",
   "metadata": {},
   "source": [
    "Question 13:\n",
    "Write a function that will take a string and calculate number of Upper case letters and lower case letters.\n"
   ]
  },
  {
   "cell_type": "code",
   "execution_count": 1,
   "metadata": {},
   "outputs": [
    {
     "name": "stdout",
     "output_type": "stream",
     "text": [
      "Original String :  Try to Think Like Programmer\n",
      "No. of Upper case characters :  4\n",
      "No. of Lower case Characters :  20\n"
     ]
    }
   ],
   "source": [
    "def strtest(s):\n",
    "    d={\"UPPER_CASE\":0, \"LOWER_CASE\":0}\n",
    "    for i in s:\n",
    "        if i.isupper():\n",
    "           d[\"UPPER_CASE\"]+=1\n",
    "        elif i.islower():\n",
    "           d[\"LOWER_CASE\"]+=1\n",
    "        else:\n",
    "           pass\n",
    "    print (\"Original String : \", s)\n",
    "    print (\"No. of Upper case characters : \", d[\"UPPER_CASE\"])\n",
    "    print (\"No. of Lower case Characters : \", d[\"LOWER_CASE\"])\n",
    "\n",
    "strtest('Try to Think Like Programmer')\n",
    "#mins"
   ]
  },
  {
   "cell_type": "markdown",
   "metadata": {},
   "source": [
    "Question 14:\n",
    "Write a function which will take length and breadth of two rectangles. Subtract the smaller rectangle from the larger rectangle and return the area left behind.\n"
   ]
  },
  {
   "cell_type": "code",
   "execution_count": 96,
   "metadata": {},
   "outputs": [
    {
     "name": "stdout",
     "output_type": "stream",
     "text": [
      "the area of rectangle is  42  m.sq\n"
     ]
    }
   ],
   "source": [
    "def area(l1,b1,l2,b2):\n",
    "    area1=l1*b1\n",
    "    area2=l2*b2\n",
    "    if area1>area2:\n",
    "        area=area1-area2\n",
    "        print(\"the area of rectangle is \",area,\" m.sq\")\n",
    "    elif area2>area1:\n",
    "        area=area2-area1\n",
    "        print(\"the area of rectangle is \",area,\" m.sq\")\n",
    "area(5,6,8,9)\n",
    "#7mins"
   ]
  },
  {
   "cell_type": "markdown",
   "metadata": {},
   "source": [
    "Question 15:\n",
    "Create a function that can add the fractions in series such as 1 to 8 = 1/8+1/7+1/6+1/5 …… ½ and return the result in fraction not in decimal.\n"
   ]
  },
  {
   "cell_type": "code",
   "execution_count": 97,
   "metadata": {},
   "outputs": [
    {
     "name": "stdout",
     "output_type": "stream",
     "text": [
      "761/280\n"
     ]
    }
   ],
   "source": [
    "import fractions\n",
    "def frac(a1,a2):\n",
    "    lst=[]\n",
    "    for i in range(a1,a2+1):\n",
    "        x=fractions.Fraction(1,i)\n",
    "        lst.append(x)\n",
    "    print(sum(lst))\n",
    "frac(1,8)\n",
    "#9mins"
   ]
  },
  {
   "cell_type": "markdown",
   "metadata": {},
   "source": [
    "Question 16:\n",
    "Write a function which will take height and base for a triangle and "
   ]
  },
  {
   "cell_type": "code",
   "execution_count": 108,
   "metadata": {},
   "outputs": [
    {
     "name": "stdout",
     "output_type": "stream",
     "text": [
      "the remaining area of triangle is: 2.85\n"
     ]
    }
   ],
   "source": [
    "import math\n",
    "def area(h,b):\n",
    "    area1 = (h*b)/2\n",
    "    area2 = (area1*5)/100\n",
    "    rem_arae = (area1-area2)\n",
    "    print('the remaining area of triangle is:',rem_arae)\n",
    "area(2,3)\n",
    "#3.00mins"
   ]
  },
  {
   "cell_type": "markdown",
   "metadata": {},
   "source": [
    "Question 17:\n",
    "Write a function which will take a list of fruits names. The function will return how many alphabets are repetitive in the names of fruits and how many are unique letters.\n"
   ]
  },
  {
   "cell_type": "code",
   "execution_count": 103,
   "metadata": {},
   "outputs": [
    {
     "name": "stdout",
     "output_type": "stream",
     "text": [
      "the repititive elements are:  5\n"
     ]
    }
   ],
   "source": [
    "def rep(a,b,c):\n",
    "    fruits=[a,b,c]\n",
    "    a=0\n",
    "    b=0\n",
    "    for i in fruits:\n",
    "        for j in i:\n",
    "            n=i.count(j)\n",
    "            if n>1:\n",
    "                b+=1\n",
    "    print('the repititive elements are: ',b)\n",
    "rep('banana','malon','grapes')\n",
    "#9mins"
   ]
  },
  {
   "cell_type": "markdown",
   "metadata": {},
   "source": [
    "Question 18:\n",
    "Write a function that can take square length and radius of circle. Find the area of both and subtract the smallest shape from largest one and return the remaining shape area.\n"
   ]
  },
  {
   "cell_type": "code",
   "execution_count": 99,
   "metadata": {},
   "outputs": [
    {
     "name": "stdout",
     "output_type": "stream",
     "text": [
      "the area of smallest shape is  29\n",
      "the area of smallest shape is  43\n"
     ]
    }
   ],
   "source": [
    "def area(l1,r1,l2,r2):\n",
    "    area1=l1*l1*r1\n",
    "    area2=l2*l2*r2\n",
    "    if area1>area2:\n",
    "        area=area1-area2\n",
    "        print(\"the area of smallest shape is \",area)\n",
    "    elif area2>area1:\n",
    "        area=area2-area1\n",
    "        print(\"the area of smallest shape is \",area)\n",
    "area(2,4,3,5)\n",
    "area(5,3,4,2)\n",
    "#7mins"
   ]
  },
  {
   "cell_type": "code",
   "execution_count": null,
   "metadata": {},
   "outputs": [],
   "source": []
  }
 ],
 "metadata": {
  "kernelspec": {
   "display_name": "Python 3",
   "language": "python",
   "name": "python3"
  },
  "language_info": {
   "codemirror_mode": {
    "name": "ipython",
    "version": 3
   },
   "file_extension": ".py",
   "mimetype": "text/x-python",
   "name": "python",
   "nbconvert_exporter": "python",
   "pygments_lexer": "ipython3",
   "version": "3.7.3"
  }
 },
 "nbformat": 4,
 "nbformat_minor": 2
}
